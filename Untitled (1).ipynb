{
 "cells": [
  {
   "cell_type": "markdown",
   "id": "85799b13-5fc4-47bd-95c7-2e521b8d6819",
   "metadata": {},
   "source": [
    "## 1) A company decided to give bonus of 5% to employee if his/her year of service is more than 5 years. Ask user for their salary and year of\n",
    "service and print the net bonus amount.|\n",
    "\n"
   ]
  },
  {
   "cell_type": "code",
   "execution_count": 43,
   "id": "d528e8fd-9d04-48fa-b970-db66ab21706a",
   "metadata": {},
   "outputs": [
    {
     "name": "stdin",
     "output_type": "stream",
     "text": [
      "Enter your salary 45\n",
      "enter your service year 6\n"
     ]
    },
    {
     "name": "stdout",
     "output_type": "stream",
     "text": [
      "2.25\n"
     ]
    }
   ],
   "source": [
    "salary=float(input(\"Enter your salary\"))\n",
    "service=int(input(\"enter your service year\"))\n",
    "bonus=0\n",
    "if service>5:\n",
    "    bonus = 0.05*salary\n",
    "    print(bonus)\n"
   ]
  },
  {
   "cell_type": "markdown",
   "id": "65a97798-81e0-40a8-8006-ecdc2b3c22ad",
   "metadata": {},
   "source": [
    "## ) Write a program to check whether a person is eligible for voting or not. (accept age from user) if age is greater than 17 eligible otherwise not\r\n",
    "eligible"
   ]
  },
  {
   "cell_type": "code",
   "execution_count": 42,
   "id": "b021aaff-27e5-4064-90a9-593b63a29614",
   "metadata": {},
   "outputs": [
    {
     "name": "stdin",
     "output_type": "stream",
     "text": [
      "enter your age 12\n"
     ]
    },
    {
     "name": "stdout",
     "output_type": "stream",
     "text": [
      "not eligible for voing\n"
     ]
    }
   ],
   "source": [
    "age=int(input(\"enter your age\"))\n",
    "if age>17:\n",
    "    print(\"eligible for voting\")\n",
    "else:\n",
    "    print(\"not eligible for voing\")"
   ]
  },
  {
   "cell_type": "markdown",
   "id": "20b6642a-aa0d-4021-a8da-87ce34583330",
   "metadata": {},
   "source": [
    "## Write a program to check whether a number entered by user is even or odd"
   ]
  },
  {
   "cell_type": "code",
   "execution_count": 57,
   "id": "d07be7d4-2924-439c-90a4-a1460f49a029",
   "metadata": {},
   "outputs": [
    {
     "name": "stdin",
     "output_type": "stream",
     "text": [
      "enter number 45\n"
     ]
    },
    {
     "name": "stdout",
     "output_type": "stream",
     "text": [
      "number is odd\n"
     ]
    }
   ],
   "source": [
    "num=int(input(\"enter number\"))\n",
    "if num%2==0:\n",
    "     print(\"num is even\")\n",
    "else:\n",
    "    print(\"number is odd\")\n",
    "           "
   ]
  },
  {
   "cell_type": "markdown",
   "id": "ee36978b-c148-4b66-ac34-0d9cd84666ae",
   "metadata": {},
   "source": [
    "## 4) Write a program to check whether a number is divisible by 7 or not. Show Answer"
   ]
  },
  {
   "cell_type": "code",
   "execution_count": 72,
   "id": "382b4d87-dc37-4b52-9ab6-36353d801dce",
   "metadata": {},
   "outputs": [
    {
     "name": "stdin",
     "output_type": "stream",
     "text": [
      "enetr number 14\n"
     ]
    },
    {
     "name": "stdout",
     "output_type": "stream",
     "text": [
      "divisible by 7\n"
     ]
    }
   ],
   "source": [
    "num=int(input(\"enetr number\"))\n",
    "if  num%7==0:\n",
    "    print(\"divisible by 7\")\n",
    "else:\n",
    "    print(\"not divisible by 7\")"
   ]
  },
  {
   "cell_type": "markdown",
   "id": "fef50706-0a8f-4841-bf6c-74dd95978bed",
   "metadata": {},
   "source": [
    "## 5) Write a program to display \"Hello\" if a number entered by user is a multiple of five , otherwise print \"Bye\".\r"
   ]
  },
  {
   "cell_type": "code",
   "execution_count": 77,
   "id": "66c83f6f-0da6-4562-8caf-75c19b48ca2b",
   "metadata": {},
   "outputs": [
    {
     "name": "stdin",
     "output_type": "stream",
     "text": [
      "enetr number 25\n"
     ]
    },
    {
     "name": "stdout",
     "output_type": "stream",
     "text": [
      "hello\n"
     ]
    }
   ],
   "source": [
    "num=int(input(\"enetr number\"))\n",
    "if  num%5==0:\n",
    "    print(\"hello\")\n",
    "else:\n",
    "    print(\"bye\")"
   ]
  },
  {
   "cell_type": "markdown",
   "id": "afe68a46-9382-448a-87d7-bef94d3de829",
   "metadata": {},
   "source": [
    "## 7) Write a program to display the last digit of a number."
   ]
  },
  {
   "cell_type": "code",
   "execution_count": 89,
   "id": "5fcf1fb0-d221-4caa-aeb5-8d6d6df6c794",
   "metadata": {},
   "outputs": [
    {
     "name": "stdin",
     "output_type": "stream",
     "text": [
      "enter number 45\n"
     ]
    },
    {
     "name": "stdout",
     "output_type": "stream",
     "text": [
      "5\n"
     ]
    }
   ],
   "source": [
    "num=int(input(\"enter number\"))\n",
    "last_digit=num%10\n",
    "print(last_digit)\n"
   ]
  },
  {
   "cell_type": "markdown",
   "id": "4fb33407-86b2-4dff-8908-f07f9e20970a",
   "metadata": {},
   "source": [
    "## Q8. Write a program to check whether the last digit of a number( entered by user ) is divisible by 3 or not."
   ]
  },
  {
   "cell_type": "code",
   "execution_count": 3,
   "id": "ed4d1adc-dabc-40e1-9ad4-955b3204791b",
   "metadata": {},
   "outputs": [
    {
     "name": "stdin",
     "output_type": "stream",
     "text": [
      "Enter a number:  45\n"
     ]
    },
    {
     "name": "stdout",
     "output_type": "stream",
     "text": [
      "The last digit of the number is not divisible by 3.\n"
     ]
    }
   ],
   "source": [
    "number = int(input(\"Enter a number: \"))\n",
    "\n",
    "last_digit = number % 10\n",
    "\n",
    "if last_digit % 3 == 0:\n",
    "    print(\"The last digit of the number is divisible by 3.\")\n",
    "else:\n",
    "    print(\"The last digit of the number is not divisible by 3.\")"
   ]
  },
  {
   "cell_type": "markdown",
   "id": "c581fcf8-9ecf-48f4-93b7-d6ba2e1cfebc",
   "metadata": {},
   "source": [
    "## 9) Take values of length and breadth of a rectangle from user and print if it is square or rectangle.\r"
   ]
  },
  {
   "cell_type": "code",
   "execution_count": 97,
   "id": "7b171909-744a-4abc-8e5d-c16e8457e20c",
   "metadata": {},
   "outputs": [
    {
     "name": "stdin",
     "output_type": "stream",
     "text": [
      "Enter length of rectangle:  4\n",
      "Enter breadth of rectangle:  5\n"
     ]
    },
    {
     "name": "stdout",
     "output_type": "stream",
     "text": [
      "Rectangle\n"
     ]
    }
   ],
   "source": [
    "length = int(input(\"Enter length of rectangle: \"))\n",
    "breadth = int(input(\"Enter breadth of rectangle: \"))\n",
    "\n",
    "if length == breadth:\n",
    "    print(\"Square\")\n",
    "else:\n",
    "    print(\"Rectangle\")"
   ]
  },
  {
   "cell_type": "markdown",
   "id": "c8ee250a-16fa-4f82-9f6f-98faa199553b",
   "metadata": {},
   "source": [
    "## 10) Take two int values from user and print greatest among them.\r"
   ]
  },
  {
   "cell_type": "code",
   "execution_count": 99,
   "id": "2e3f6c0d-ab4c-4938-a74e-3f18207844f9",
   "metadata": {},
   "outputs": [
    {
     "name": "stdin",
     "output_type": "stream",
     "text": [
      "Enter first number:  56\n",
      "Enter second number:  8999\n"
     ]
    },
    {
     "name": "stdout",
     "output_type": "stream",
     "text": [
      "The greatest number is: 8999\n"
     ]
    }
   ],
   "source": [
    "num1 = int(input(\"Enter first number: \"))\n",
    "num2 = int(input(\"Enter second number: \"))\n",
    "\n",
    "\n",
    "greatest = max(num1, num2)\n",
    "\n",
    "print(\"The greatest number is:\", greatest)"
   ]
  },
  {
   "cell_type": "markdown",
   "id": "557a48e0-a780-4975-aa5e-450fd5313524",
   "metadata": {},
   "source": [
    "## 11) A shop will give discount of 10% if the cost of purchased quantity is more than 1000. Ask user for quantity Suppose, one unit will cost 100.\r\n",
    "Judge and print total cost for user."
   ]
  },
  {
   "cell_type": "code",
   "execution_count": 2,
   "id": "4e6d827f-eca5-4294-86df-3e5e85bfa340",
   "metadata": {},
   "outputs": [
    {
     "name": "stdin",
     "output_type": "stream",
     "text": [
      "Enter the quantity of units you want to purchase:  13\n"
     ]
    },
    {
     "name": "stdout",
     "output_type": "stream",
     "text": [
      "Total price before discount: 1300\n",
      "Discount: 130.0\n",
      "Final price after discount: 1170.0\n"
     ]
    }
   ],
   "source": [
    "quantity = int(input(\"Enter the quantity of units you want to purchase: \"))\n",
    "\n",
    "price = 100  # Assuming unit price is 100\n",
    "\n",
    "total_price = quantity * price\n",
    "\n",
    "if total_price > 1000:\n",
    "   discount = total_price * 10 / 100\n",
    "   final_price = total_price - discount\n",
    "   print(f\"Total price before discount: {total_price}\")\n",
    "   print(f\"Discount: {discount}\")\n",
    "   print(f\"Final price after discount: {final_price}\")\n",
    "else:\n",
    "   print(f\"Total price: {total_price}\")"
   ]
  },
  {
   "cell_type": "markdown",
   "id": "90736afb-7c6f-4c9c-8c7a-e39ac02259a2",
   "metadata": {},
   "source": [
    "## 12) A school has following rules for grading system:\r\n",
    "a. Below 25 - F\r\n",
    "b. 25 to 45 - E\r\n",
    "c. 45 to 50 - D\r\n",
    "d. 50 to 60 - C\r\n",
    "e. 60 to 80 - B\r\n",
    "f. Above 80 - A\r\n",
    "Ask user to enter marks and print the corresponding grade"
   ]
  },
  {
   "cell_type": "code",
   "execution_count": 104,
   "id": "c90816a0-f77a-43e4-8140-a8fd1849c0b9",
   "metadata": {},
   "outputs": [
    {
     "name": "stdin",
     "output_type": "stream",
     "text": [
      "Enter your marks:  80\n"
     ]
    },
    {
     "name": "stdout",
     "output_type": "stream",
     "text": [
      "A\n"
     ]
    }
   ],
   "source": [
    "marks = int(input(\"Enter your marks: \"))\n",
    "\n",
    "if marks < 25:\n",
    "    grade = \"F\"\n",
    "elif marks < 45:\n",
    "    grade = \"E\"\n",
    "elif marks < 50:\n",
    "    grade = \"D\"\n",
    "elif marks < 60:\n",
    "    grade = \"C\"\n",
    "elif marks < 80:\n",
    "    grade = \"B\"\n",
    "else:\n",
    "    grade = \"A\"\n",
    "\n",
    "print(grade)"
   ]
  },
  {
   "cell_type": "markdown",
   "id": "93a1226d-ae6f-454e-aac1-cfc7e4355fbd",
   "metadata": {},
   "source": [
    "## 14)A student will not be allowed to sit in exam if his/her attendence is less than 75%.\r\n",
    "Take following input from user\r\n",
    "Number of classes held\r\n",
    "Number of classes attended.\r\n",
    "And print\r\n",
    "percentage of class attended\r\n",
    "Is student is allowed to sit in exam or not.\r"
   ]
  },
  {
   "cell_type": "code",
   "execution_count": 109,
   "id": "3fa0d074-a985-4619-bd28-defb47f1fb7b",
   "metadata": {},
   "outputs": [
    {
     "name": "stdin",
     "output_type": "stream",
     "text": [
      "enter number of classes held 45\n",
      "enter number of classes attended 34\n"
     ]
    },
    {
     "name": "stdout",
     "output_type": "stream",
     "text": [
      "student is allowed to sit in exam\n"
     ]
    }
   ],
   "source": [
    "num1=int(input(\"enter number of classes held\"))\n",
    "num2=int(input(\"enter number of classes attended\"))\n",
    "percentage=(num2/num1)*100\n",
    "eligible=percentage>=75\n",
    "if eligible:\n",
    "    print(\"student is allowed to sit in exam\")\n",
    "else:\n",
    "     print(\"student is not allowed to sit in exam\")\n",
    "\n"
   ]
  },
  {
   "cell_type": "markdown",
   "id": "678bd967-932f-4396-91bf-14671836f39c",
   "metadata": {},
   "source": [
    "## ) Modify the above question to allow student to sit if he/she has medical cause. Ask user if he/she has medical cause or not ( 'Y' or 'N' ) and\r\n",
    "print accordingly"
   ]
  },
  {
   "cell_type": "code",
   "execution_count": 4,
   "id": "6634162f-5b99-4f62-acce-795b324f92a4",
   "metadata": {},
   "outputs": [
    {
     "name": "stdin",
     "output_type": "stream",
     "text": [
      "Enter the number of classes held:  34\n",
      "Enter the number of classes attended:  23\n",
      "Do you have a medical cause for your absences? (Y/N):  yes\n"
     ]
    },
    {
     "name": "stdout",
     "output_type": "stream",
     "text": [
      "Attendance percentage: 67.65%\n",
      "Sorry, your attendance is less than 75% and you do not have a medical cause. You are not eligible to sit in the exam.\n"
     ]
    }
   ],
   "source": [
    "# Get input from the user\n",
    "num_classes_held = int(input(\"Enter the number of classes held: \"))\n",
    "num_classes_attended = int(input(\"Enter the number of classes attended: \"))\n",
    "medical_cause = input(\"Do you have a medical cause for your absences? (Y/N): \")\n",
    "\n",
    "# Calculate the attendance percentage\n",
    "attendance_percentage = (num_classes_attended / num_classes_held) * 100\n",
    "\n",
    "# Print the attendance percentage\n",
    "print(f\"Attendance percentage: {attendance_percentage:.2f}%\")\n",
    "\n",
    "# Check eligibility and print the result\n",
    "if attendance_percentage >= 75:\n",
    " print(\"Congratulations! You are eligible to sit in the exam.\")\n",
    "else:\n",
    " if medical_cause.upper() == \"Y\":\n",
    "   print(\"You are eligible to sit in the exam due to medical cause.\")\n",
    " else:\n",
    "   print(\"Sorry, your attendance is less than 75% and you do not have a medical cause. You are not eligible to sit in the exam.\")"
   ]
  },
  {
   "cell_type": "markdown",
   "id": "af1c6b46-64fe-498c-945e-a08d43660a0a",
   "metadata": {},
   "source": [
    "## 16) Write a program to check if a year is leap year or not.\r\n",
    "If a year is divisible by 4 then it is leap year but if the year is century year like 2000, 1900, 2100 then it must be divisible by 400"
   ]
  },
  {
   "cell_type": "code",
   "execution_count": 6,
   "id": "cc78f819-2f0b-48d4-b7e0-e49cee32d29c",
   "metadata": {},
   "outputs": [
    {
     "name": "stdin",
     "output_type": "stream",
     "text": [
      "Enter a year:  2024\n"
     ]
    },
    {
     "name": "stdout",
     "output_type": "stream",
     "text": [
      "2024 is a leap year.\n"
     ]
    }
   ],
   "source": [
    "year = int(input(\"Enter a year: \"))\n",
    "if year % 4 == 0:\n",
    "    if year % 100 == 0:\n",
    "        if year % 400 == 0:\n",
    "            print(f\"{year} is a leap year.\")\n",
    "        else:\n",
    "            print(f\"{year} is not a leap year.\")\n",
    "    else:\n",
    "        print(f\"{year} is a leap year.\")\n",
    "else:\n",
    "    print(f\"{year} is not a leap year.\")"
   ]
  },
  {
   "cell_type": "code",
   "execution_count": 7,
   "id": "9f6337f9-5b0f-42ee-80ee-066e636c82e8",
   "metadata": {},
   "outputs": [
    {
     "name": "stdin",
     "output_type": "stream",
     "text": [
      "Enter age:  34\n",
      "Enter gender (M or F):  M\n",
      "Enter marital status (Y or N):  y\n"
     ]
    },
    {
     "name": "stdout",
     "output_type": "stream",
     "text": [
      "Place of service: Anywhere\n"
     ]
    }
   ],
   "source": [
    "age = int(input(\"Enter age: \"))\n",
    "gender = input(\"Enter gender (M or F): \").upper()\n",
    "marital_status = input(\"Enter marital status (Y or N): \").upper()\n",
    "\n",
    "# Place of service determination\n",
    "if gender == 'F':\n",
    "    place_of_service = \"Urban areas\"\n",
    "elif gender == 'M' and 20 <= age <= 40:\n",
    "    place_of_service = \"Anywhere\"\n",
    "elif gender == 'M' and 40 <= age <= 60:\n",
    "    place_of_service = \"Urban areas\"\n",
    "else:\n",
    "    place_of_service = \"ERROR\"\n",
    "\n",
    "# Display result\n",
    "print(\"Place of service:\", place_of_service)"
   ]
  },
  {
   "cell_type": "code",
   "execution_count": null,
   "id": "6a0ddb47-e377-4c69-b86b-58611d5e34bd",
   "metadata": {},
   "outputs": [],
   "source": []
  }
 ],
 "metadata": {
  "kernelspec": {
   "display_name": "Python 3 (ipykernel)",
   "language": "python",
   "name": "python3"
  },
  "language_info": {
   "codemirror_mode": {
    "name": "ipython",
    "version": 3
   },
   "file_extension": ".py",
   "mimetype": "text/x-python",
   "name": "python",
   "nbconvert_exporter": "python",
   "pygments_lexer": "ipython3",
   "version": "3.11.0"
  }
 },
 "nbformat": 4,
 "nbformat_minor": 5
}
